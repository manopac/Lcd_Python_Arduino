{
  "nbformat": 4,
  "nbformat_minor": 0,
  "metadata": {
    "colab": {
      "provenance": [],
      "authorship_tag": "ABX9TyNTIF7AGCS8ZPJwwQEtO1gc",
      "include_colab_link": true
    },
    "kernelspec": {
      "name": "python3",
      "display_name": "Python 3"
    },
    "language_info": {
      "name": "python"
    }
  },
  "cells": [
    {
      "cell_type": "markdown",
      "metadata": {
        "id": "view-in-github",
        "colab_type": "text"
      },
      "source": [
        "<a href=\"https://colab.research.google.com/github/manopac/Lcd_Python_Arduino/blob/master/regras.ipynb\" target=\"_parent\"><img src=\"https://colab.research.google.com/assets/colab-badge.svg\" alt=\"Open In Colab\"/></a>"
      ]
    },
    {
      "cell_type": "code",
      "execution_count": 1,
      "metadata": {
        "colab": {
          "base_uri": "https://localhost:8080/"
        },
        "id": "e9GrTDhaoOjh",
        "outputId": "c624dd95-d104-4d9b-c57e-d20b71302713"
      },
      "outputs": [
        {
          "output_type": "stream",
          "name": "stdout",
          "text": [
            "Collecting Orange3\n",
            "  Downloading Orange3-3.36.2-cp310-cp310-manylinux_2_17_x86_64.manylinux2014_x86_64.whl (6.1 MB)\n",
            "\u001b[2K     \u001b[90m━━━━━━━━━━━━━━━━━━━━━━━━━━━━━━━━━━━━━━━━\u001b[0m \u001b[32m6.1/6.1 MB\u001b[0m \u001b[31m41.0 MB/s\u001b[0m eta \u001b[36m0:00:00\u001b[0m\n",
            "\u001b[?25hCollecting AnyQt>=0.2.0 (from Orange3)\n",
            "  Downloading AnyQt-0.2.0-py3-none-any.whl (56 kB)\n",
            "\u001b[2K     \u001b[90m━━━━━━━━━━━━━━━━━━━━━━━━━━━━━━━━━━━━━━━━\u001b[0m \u001b[32m56.2/56.2 kB\u001b[0m \u001b[31m7.1 MB/s\u001b[0m eta \u001b[36m0:00:00\u001b[0m\n",
            "\u001b[?25hCollecting baycomp>=1.0.2 (from Orange3)\n",
            "  Downloading baycomp-1.0.3.tar.gz (15 kB)\n",
            "  Preparing metadata (setup.py) ... \u001b[?25l\u001b[?25hdone\n",
            "Collecting bottleneck>=1.3.4 (from Orange3)\n",
            "  Downloading Bottleneck-1.3.7-cp310-cp310-manylinux_2_5_x86_64.manylinux1_x86_64.manylinux_2_17_x86_64.manylinux2014_x86_64.whl (354 kB)\n",
            "\u001b[2K     \u001b[90m━━━━━━━━━━━━━━━━━━━━━━━━━━━━━━━━━━━━━━━━\u001b[0m \u001b[32m354.0/354.0 kB\u001b[0m \u001b[31m34.9 MB/s\u001b[0m eta \u001b[36m0:00:00\u001b[0m\n",
            "\u001b[?25hCollecting catboost>=1.0.1 (from Orange3)\n",
            "  Downloading catboost-1.2.2-cp310-cp310-manylinux2014_x86_64.whl (98.7 MB)\n",
            "\u001b[2K     \u001b[90m━━━━━━━━━━━━━━━━━━━━━━━━━━━━━━━━━━━━━━━━\u001b[0m \u001b[32m98.7/98.7 MB\u001b[0m \u001b[31m7.4 MB/s\u001b[0m eta \u001b[36m0:00:00\u001b[0m\n",
            "\u001b[?25hRequirement already satisfied: chardet>=3.0.2 in /usr/local/lib/python3.10/dist-packages (from Orange3) (5.2.0)\n",
            "Collecting httpx>=0.21.0 (from Orange3)\n",
            "  Downloading httpx-0.25.2-py3-none-any.whl (74 kB)\n",
            "\u001b[2K     \u001b[90m━━━━━━━━━━━━━━━━━━━━━━━━━━━━━━━━━━━━━━━━\u001b[0m \u001b[32m75.0/75.0 kB\u001b[0m \u001b[31m7.5 MB/s\u001b[0m eta \u001b[36m0:00:00\u001b[0m\n",
            "\u001b[?25hRequirement already satisfied: joblib>=1.0.0 in /usr/local/lib/python3.10/dist-packages (from Orange3) (1.3.2)\n",
            "Requirement already satisfied: keyring in /usr/lib/python3/dist-packages (from Orange3) (23.5.0)\n",
            "Collecting keyrings.alt (from Orange3)\n",
            "  Downloading keyrings.alt-5.0.0-py3-none-any.whl (18 kB)\n",
            "Requirement already satisfied: matplotlib>=3.2.0 in /usr/local/lib/python3.10/dist-packages (from Orange3) (3.7.1)\n",
            "Requirement already satisfied: networkx in /usr/local/lib/python3.10/dist-packages (from Orange3) (3.2.1)\n",
            "Requirement already satisfied: numpy>=1.20.0 in /usr/local/lib/python3.10/dist-packages (from Orange3) (1.23.5)\n",
            "Collecting openTSNE!=0.7.0,>=0.6.1 (from Orange3)\n",
            "  Downloading openTSNE-1.0.0-cp310-cp310-manylinux_2_17_x86_64.manylinux2014_x86_64.whl (2.7 MB)\n",
            "\u001b[2K     \u001b[90m━━━━━━━━━━━━━━━━━━━━━━━━━━━━━━━━━━━━━━━━\u001b[0m \u001b[32m2.7/2.7 MB\u001b[0m \u001b[31m58.8 MB/s\u001b[0m eta \u001b[36m0:00:00\u001b[0m\n",
            "\u001b[?25hRequirement already satisfied: openpyxl in /usr/local/lib/python3.10/dist-packages (from Orange3) (3.1.2)\n",
            "Collecting orange-canvas-core<0.2a,>=0.1.30 (from Orange3)\n",
            "  Downloading orange_canvas_core-0.1.35-py3-none-any.whl (513 kB)\n",
            "\u001b[2K     \u001b[90m━━━━━━━━━━━━━━━━━━━━━━━━━━━━━━━━━━━━━━━━\u001b[0m \u001b[32m513.3/513.3 kB\u001b[0m \u001b[31m39.1 MB/s\u001b[0m eta \u001b[36m0:00:00\u001b[0m\n",
            "\u001b[?25hCollecting orange-widget-base>=4.22.0 (from Orange3)\n",
            "  Downloading orange_widget_base-4.22.0-py3-none-any.whl (263 kB)\n",
            "\u001b[2K     \u001b[90m━━━━━━━━━━━━━━━━━━━━━━━━━━━━━━━━━━━━━━━━\u001b[0m \u001b[32m263.8/263.8 kB\u001b[0m \u001b[31m23.3 MB/s\u001b[0m eta \u001b[36m0:00:00\u001b[0m\n",
            "\u001b[?25hRequirement already satisfied: pandas!=1.5.0,!=2.0.0,>=1.4.0 in /usr/local/lib/python3.10/dist-packages (from Orange3) (1.5.3)\n",
            "Requirement already satisfied: pip>=18.0 in /usr/local/lib/python3.10/dist-packages (from Orange3) (23.1.2)\n",
            "Requirement already satisfied: pygments>=2.8.0 in /usr/local/lib/python3.10/dist-packages (from Orange3) (2.16.1)\n",
            "Collecting pyqtgraph>=0.13.1 (from Orange3)\n",
            "  Downloading pyqtgraph-0.13.3-py3-none-any.whl (960 kB)\n",
            "\u001b[2K     \u001b[90m━━━━━━━━━━━━━━━━━━━━━━━━━━━━━━━━━━━━━━━━\u001b[0m \u001b[32m961.0/961.0 kB\u001b[0m \u001b[31m50.9 MB/s\u001b[0m eta \u001b[36m0:00:00\u001b[0m\n",
            "\u001b[?25hRequirement already satisfied: python-louvain>=0.13 in /usr/local/lib/python3.10/dist-packages (from Orange3) (0.16)\n",
            "Requirement already satisfied: pyyaml in /usr/local/lib/python3.10/dist-packages (from Orange3) (6.0.1)\n",
            "Collecting qtconsole>=4.7.2 (from Orange3)\n",
            "  Downloading qtconsole-5.5.1-py3-none-any.whl (123 kB)\n",
            "\u001b[2K     \u001b[90m━━━━━━━━━━━━━━━━━━━━━━━━━━━━━━━━━━━━━━━━\u001b[0m \u001b[32m123.4/123.4 kB\u001b[0m \u001b[31m13.4 MB/s\u001b[0m eta \u001b[36m0:00:00\u001b[0m\n",
            "\u001b[?25hRequirement already satisfied: requests in /usr/local/lib/python3.10/dist-packages (from Orange3) (2.31.0)\n",
            "Collecting scikit-learn!=1.2.*,<1.4,>=1.1.0 (from Orange3)\n",
            "  Downloading scikit_learn-1.3.2-cp310-cp310-manylinux_2_17_x86_64.manylinux2014_x86_64.whl (10.8 MB)\n",
            "\u001b[2K     \u001b[90m━━━━━━━━━━━━━━━━━━━━━━━━━━━━━━━━━━━━━━━━\u001b[0m \u001b[32m10.8/10.8 MB\u001b[0m \u001b[31m55.9 MB/s\u001b[0m eta \u001b[36m0:00:00\u001b[0m\n",
            "\u001b[?25hRequirement already satisfied: scipy>=1.9 in /usr/local/lib/python3.10/dist-packages (from Orange3) (1.11.3)\n",
            "Collecting serverfiles (from Orange3)\n",
            "  Downloading serverfiles-0.3.1.tar.gz (11 kB)\n",
            "  Preparing metadata (setup.py) ... \u001b[?25l\u001b[?25hdone\n",
            "Requirement already satisfied: setuptools>=51.0.0 in /usr/local/lib/python3.10/dist-packages (from Orange3) (67.7.2)\n",
            "Requirement already satisfied: xgboost>=1.7.4 in /usr/local/lib/python3.10/dist-packages (from Orange3) (2.0.2)\n",
            "Requirement already satisfied: xlrd>=1.2.0 in /usr/local/lib/python3.10/dist-packages (from Orange3) (2.0.1)\n",
            "Collecting xlsxwriter (from Orange3)\n",
            "  Downloading XlsxWriter-3.1.9-py3-none-any.whl (154 kB)\n",
            "\u001b[2K     \u001b[90m━━━━━━━━━━━━━━━━━━━━━━━━━━━━━━━━━━━━━━━━\u001b[0m \u001b[32m154.8/154.8 kB\u001b[0m \u001b[31m14.1 MB/s\u001b[0m eta \u001b[36m0:00:00\u001b[0m\n",
            "\u001b[?25hRequirement already satisfied: graphviz in /usr/local/lib/python3.10/dist-packages (from catboost>=1.0.1->Orange3) (0.20.1)\n",
            "Requirement already satisfied: plotly in /usr/local/lib/python3.10/dist-packages (from catboost>=1.0.1->Orange3) (5.15.0)\n",
            "Requirement already satisfied: six in /usr/local/lib/python3.10/dist-packages (from catboost>=1.0.1->Orange3) (1.16.0)\n",
            "Requirement already satisfied: anyio in /usr/local/lib/python3.10/dist-packages (from httpx>=0.21.0->Orange3) (3.7.1)\n",
            "Requirement already satisfied: certifi in /usr/local/lib/python3.10/dist-packages (from httpx>=0.21.0->Orange3) (2023.7.22)\n",
            "Collecting httpcore==1.* (from httpx>=0.21.0->Orange3)\n",
            "  Downloading httpcore-1.0.2-py3-none-any.whl (76 kB)\n",
            "\u001b[2K     \u001b[90m━━━━━━━━━━━━━━━━━━━━━━━━━━━━━━━━━━━━━━━━\u001b[0m \u001b[32m76.9/76.9 kB\u001b[0m \u001b[31m8.2 MB/s\u001b[0m eta \u001b[36m0:00:00\u001b[0m\n",
            "\u001b[?25hRequirement already satisfied: idna in /usr/local/lib/python3.10/dist-packages (from httpx>=0.21.0->Orange3) (3.4)\n",
            "Requirement already satisfied: sniffio in /usr/local/lib/python3.10/dist-packages (from httpx>=0.21.0->Orange3) (1.3.0)\n",
            "Collecting h11<0.15,>=0.13 (from httpcore==1.*->httpx>=0.21.0->Orange3)\n",
            "  Downloading h11-0.14.0-py3-none-any.whl (58 kB)\n",
            "\u001b[2K     \u001b[90m━━━━━━━━━━━━━━━━━━━━━━━━━━━━━━━━━━━━━━━━\u001b[0m \u001b[32m58.3/58.3 kB\u001b[0m \u001b[31m6.4 MB/s\u001b[0m eta \u001b[36m0:00:00\u001b[0m\n",
            "\u001b[?25hRequirement already satisfied: contourpy>=1.0.1 in /usr/local/lib/python3.10/dist-packages (from matplotlib>=3.2.0->Orange3) (1.2.0)\n",
            "Requirement already satisfied: cycler>=0.10 in /usr/local/lib/python3.10/dist-packages (from matplotlib>=3.2.0->Orange3) (0.12.1)\n",
            "Requirement already satisfied: fonttools>=4.22.0 in /usr/local/lib/python3.10/dist-packages (from matplotlib>=3.2.0->Orange3) (4.44.3)\n",
            "Requirement already satisfied: kiwisolver>=1.0.1 in /usr/local/lib/python3.10/dist-packages (from matplotlib>=3.2.0->Orange3) (1.4.5)\n",
            "Requirement already satisfied: packaging>=20.0 in /usr/local/lib/python3.10/dist-packages (from matplotlib>=3.2.0->Orange3) (23.2)\n",
            "Requirement already satisfied: pillow>=6.2.0 in /usr/local/lib/python3.10/dist-packages (from matplotlib>=3.2.0->Orange3) (9.4.0)\n",
            "Requirement already satisfied: pyparsing>=2.3.1 in /usr/local/lib/python3.10/dist-packages (from matplotlib>=3.2.0->Orange3) (3.1.1)\n",
            "Requirement already satisfied: python-dateutil>=2.7 in /usr/local/lib/python3.10/dist-packages (from matplotlib>=3.2.0->Orange3) (2.8.2)\n",
            "Requirement already satisfied: docutils in /usr/local/lib/python3.10/dist-packages (from orange-canvas-core<0.2a,>=0.1.30->Orange3) (0.18.1)\n",
            "Collecting commonmark>=0.8.1 (from orange-canvas-core<0.2a,>=0.1.30->Orange3)\n",
            "  Downloading commonmark-0.9.1-py2.py3-none-any.whl (51 kB)\n",
            "\u001b[2K     \u001b[90m━━━━━━━━━━━━━━━━━━━━━━━━━━━━━━━━━━━━━━━━\u001b[0m \u001b[32m51.1/51.1 kB\u001b[0m \u001b[31m6.7 MB/s\u001b[0m eta \u001b[36m0:00:00\u001b[0m\n",
            "\u001b[?25hCollecting requests-cache (from orange-canvas-core<0.2a,>=0.1.30->Orange3)\n",
            "  Downloading requests_cache-1.1.1-py3-none-any.whl (60 kB)\n",
            "\u001b[2K     \u001b[90m━━━━━━━━━━━━━━━━━━━━━━━━━━━━━━━━━━━━━━━━\u001b[0m \u001b[32m60.3/60.3 kB\u001b[0m \u001b[31m7.8 MB/s\u001b[0m eta \u001b[36m0:00:00\u001b[0m\n",
            "\u001b[?25hCollecting dictdiffer (from orange-canvas-core<0.2a,>=0.1.30->Orange3)\n",
            "  Downloading dictdiffer-0.9.0-py2.py3-none-any.whl (16 kB)\n",
            "Collecting qasync>=0.10.0 (from orange-canvas-core<0.2a,>=0.1.30->Orange3)\n",
            "  Downloading qasync-0.27.1-py3-none-any.whl (14 kB)\n",
            "Requirement already satisfied: typing-extensions>=3.7.4.3 in /usr/local/lib/python3.10/dist-packages (from orange-widget-base>=4.22.0->Orange3) (4.5.0)\n",
            "Requirement already satisfied: pytz>=2020.1 in /usr/local/lib/python3.10/dist-packages (from pandas!=1.5.0,!=2.0.0,>=1.4.0->Orange3) (2023.3.post1)\n",
            "Requirement already satisfied: traitlets!=5.2.1,!=5.2.2 in /usr/local/lib/python3.10/dist-packages (from qtconsole>=4.7.2->Orange3) (5.7.1)\n",
            "Requirement already satisfied: jupyter-core in /usr/local/lib/python3.10/dist-packages (from qtconsole>=4.7.2->Orange3) (5.5.0)\n",
            "Requirement already satisfied: jupyter-client>=4.1 in /usr/local/lib/python3.10/dist-packages (from qtconsole>=4.7.2->Orange3) (6.1.12)\n",
            "Requirement already satisfied: ipykernel>=4.1 in /usr/local/lib/python3.10/dist-packages (from qtconsole>=4.7.2->Orange3) (5.5.6)\n",
            "Collecting qtpy>=2.4.0 (from qtconsole>=4.7.2->Orange3)\n",
            "  Downloading QtPy-2.4.1-py3-none-any.whl (93 kB)\n",
            "\u001b[2K     \u001b[90m━━━━━━━━━━━━━━━━━━━━━━━━━━━━━━━━━━━━━━━━\u001b[0m \u001b[32m93.5/93.5 kB\u001b[0m \u001b[31m11.4 MB/s\u001b[0m eta \u001b[36m0:00:00\u001b[0m\n",
            "\u001b[?25hRequirement already satisfied: pyzmq>=17.1 in /usr/local/lib/python3.10/dist-packages (from qtconsole>=4.7.2->Orange3) (23.2.1)\n",
            "Requirement already satisfied: threadpoolctl>=2.0.0 in /usr/local/lib/python3.10/dist-packages (from scikit-learn!=1.2.*,<1.4,>=1.1.0->Orange3) (3.2.0)\n",
            "Collecting jaraco.classes (from keyrings.alt->Orange3)\n",
            "  Downloading jaraco.classes-3.3.0-py3-none-any.whl (5.9 kB)\n",
            "Requirement already satisfied: et-xmlfile in /usr/local/lib/python3.10/dist-packages (from openpyxl->Orange3) (1.1.0)\n",
            "Requirement already satisfied: charset-normalizer<4,>=2 in /usr/local/lib/python3.10/dist-packages (from requests->Orange3) (3.3.2)\n",
            "Requirement already satisfied: urllib3<3,>=1.21.1 in /usr/local/lib/python3.10/dist-packages (from requests->Orange3) (2.0.7)\n",
            "Requirement already satisfied: ipython-genutils in /usr/local/lib/python3.10/dist-packages (from ipykernel>=4.1->qtconsole>=4.7.2->Orange3) (0.2.0)\n",
            "Requirement already satisfied: ipython>=5.0.0 in /usr/local/lib/python3.10/dist-packages (from ipykernel>=4.1->qtconsole>=4.7.2->Orange3) (7.34.0)\n",
            "Requirement already satisfied: tornado>=4.2 in /usr/local/lib/python3.10/dist-packages (from ipykernel>=4.1->qtconsole>=4.7.2->Orange3) (6.3.2)\n",
            "Requirement already satisfied: platformdirs>=2.5 in /usr/local/lib/python3.10/dist-packages (from jupyter-core->qtconsole>=4.7.2->Orange3) (4.0.0)\n",
            "Requirement already satisfied: exceptiongroup in /usr/local/lib/python3.10/dist-packages (from anyio->httpx>=0.21.0->Orange3) (1.1.3)\n",
            "Requirement already satisfied: more-itertools in /usr/local/lib/python3.10/dist-packages (from jaraco.classes->keyrings.alt->Orange3) (10.1.0)\n",
            "Requirement already satisfied: tenacity>=6.2.0 in /usr/local/lib/python3.10/dist-packages (from plotly->catboost>=1.0.1->Orange3) (8.2.3)\n",
            "Requirement already satisfied: attrs>=21.2 in /usr/local/lib/python3.10/dist-packages (from requests-cache->orange-canvas-core<0.2a,>=0.1.30->Orange3) (23.1.0)\n",
            "Collecting cattrs>=22.2 (from requests-cache->orange-canvas-core<0.2a,>=0.1.30->Orange3)\n",
            "  Downloading cattrs-23.2.2-py3-none-any.whl (57 kB)\n",
            "\u001b[2K     \u001b[90m━━━━━━━━━━━━━━━━━━━━━━━━━━━━━━━━━━━━━━━━\u001b[0m \u001b[32m57.5/57.5 kB\u001b[0m \u001b[31m6.8 MB/s\u001b[0m eta \u001b[36m0:00:00\u001b[0m\n",
            "\u001b[?25hCollecting url-normalize>=1.4 (from requests-cache->orange-canvas-core<0.2a,>=0.1.30->Orange3)\n",
            "  Downloading url_normalize-1.4.3-py2.py3-none-any.whl (6.8 kB)\n",
            "Collecting jedi>=0.16 (from ipython>=5.0.0->ipykernel>=4.1->qtconsole>=4.7.2->Orange3)\n",
            "  Downloading jedi-0.19.1-py2.py3-none-any.whl (1.6 MB)\n",
            "\u001b[2K     \u001b[90m━━━━━━━━━━━━━━━━━━━━━━━━━━━━━━━━━━━━━━━━\u001b[0m \u001b[32m1.6/1.6 MB\u001b[0m \u001b[31m78.5 MB/s\u001b[0m eta \u001b[36m0:00:00\u001b[0m\n",
            "\u001b[?25hRequirement already satisfied: decorator in /usr/local/lib/python3.10/dist-packages (from ipython>=5.0.0->ipykernel>=4.1->qtconsole>=4.7.2->Orange3) (4.4.2)\n",
            "Requirement already satisfied: pickleshare in /usr/local/lib/python3.10/dist-packages (from ipython>=5.0.0->ipykernel>=4.1->qtconsole>=4.7.2->Orange3) (0.7.5)\n",
            "Requirement already satisfied: prompt-toolkit!=3.0.0,!=3.0.1,<3.1.0,>=2.0.0 in /usr/local/lib/python3.10/dist-packages (from ipython>=5.0.0->ipykernel>=4.1->qtconsole>=4.7.2->Orange3) (3.0.41)\n",
            "Requirement already satisfied: backcall in /usr/local/lib/python3.10/dist-packages (from ipython>=5.0.0->ipykernel>=4.1->qtconsole>=4.7.2->Orange3) (0.2.0)\n",
            "Requirement already satisfied: matplotlib-inline in /usr/local/lib/python3.10/dist-packages (from ipython>=5.0.0->ipykernel>=4.1->qtconsole>=4.7.2->Orange3) (0.1.6)\n",
            "Requirement already satisfied: pexpect>4.3 in /usr/local/lib/python3.10/dist-packages (from ipython>=5.0.0->ipykernel>=4.1->qtconsole>=4.7.2->Orange3) (4.8.0)\n",
            "Requirement already satisfied: parso<0.9.0,>=0.8.3 in /usr/local/lib/python3.10/dist-packages (from jedi>=0.16->ipython>=5.0.0->ipykernel>=4.1->qtconsole>=4.7.2->Orange3) (0.8.3)\n",
            "Requirement already satisfied: ptyprocess>=0.5 in /usr/local/lib/python3.10/dist-packages (from pexpect>4.3->ipython>=5.0.0->ipykernel>=4.1->qtconsole>=4.7.2->Orange3) (0.7.0)\n",
            "Requirement already satisfied: wcwidth in /usr/local/lib/python3.10/dist-packages (from prompt-toolkit!=3.0.0,!=3.0.1,<3.1.0,>=2.0.0->ipython>=5.0.0->ipykernel>=4.1->qtconsole>=4.7.2->Orange3) (0.2.10)\n",
            "Building wheels for collected packages: baycomp, serverfiles\n",
            "  Building wheel for baycomp (setup.py) ... \u001b[?25l\u001b[?25hdone\n",
            "  Created wheel for baycomp: filename=baycomp-1.0.3-py3-none-any.whl size=18025 sha256=c905a52aa89533920671b7c5cf438d4ec9e571c599b0bb3d45ee7b132284dbb2\n",
            "  Stored in directory: /root/.cache/pip/wheels/8a/aa/61/8f1e79a2be629eaa2a72b495c56bb667568dac7c33f4e4c408\n",
            "  Building wheel for serverfiles (setup.py) ... \u001b[?25l\u001b[?25hdone\n",
            "  Created wheel for serverfiles: filename=serverfiles-0.3.1-py3-none-any.whl size=6924 sha256=0221051edbf4e38e49cb807129e8944e39658950d081bd72075a4f5c2982e504\n",
            "  Stored in directory: /root/.cache/pip/wheels/d0/b8/e2/d57e11dc10e8916a3cb5ac7605dedaa204052eaa7d5b3eb840\n",
            "Successfully built baycomp serverfiles\n",
            "Installing collected packages: dictdiffer, commonmark, xlsxwriter, url-normalize, qtpy, qasync, pyqtgraph, jedi, jaraco.classes, h11, cattrs, bottleneck, AnyQt, serverfiles, scikit-learn, requests-cache, keyrings.alt, httpcore, orange-canvas-core, openTSNE, httpx, catboost, baycomp, qtconsole, orange-widget-base, Orange3\n",
            "  Attempting uninstall: scikit-learn\n",
            "    Found existing installation: scikit-learn 1.2.2\n",
            "    Uninstalling scikit-learn-1.2.2:\n",
            "      Successfully uninstalled scikit-learn-1.2.2\n",
            "Successfully installed AnyQt-0.2.0 Orange3-3.36.2 baycomp-1.0.3 bottleneck-1.3.7 catboost-1.2.2 cattrs-23.2.2 commonmark-0.9.1 dictdiffer-0.9.0 h11-0.14.0 httpcore-1.0.2 httpx-0.25.2 jaraco.classes-3.3.0 jedi-0.19.1 keyrings.alt-5.0.0 openTSNE-1.0.0 orange-canvas-core-0.1.35 orange-widget-base-4.22.0 pyqtgraph-0.13.3 qasync-0.27.1 qtconsole-5.5.1 qtpy-2.4.1 requests-cache-1.1.1 scikit-learn-1.3.2 serverfiles-0.3.1 url-normalize-1.4.3 xlsxwriter-3.1.9\n"
          ]
        }
      ],
      "source": [
        "pip install Orange3"
      ]
    },
    {
      "cell_type": "markdown",
      "source": [],
      "metadata": {
        "id": "_ePiFc4-ojuD"
      }
    },
    {
      "cell_type": "code",
      "source": [
        "import Orange"
      ],
      "metadata": {
        "id": "A1YxX0gXomYo"
      },
      "execution_count": 2,
      "outputs": []
    },
    {
      "cell_type": "code",
      "source": [
        "base_risco_credito = Orange.data.Table('risco_credito_regras.csv')"
      ],
      "metadata": {
        "id": "FbmhYTF4omGf"
      },
      "execution_count": 6,
      "outputs": []
    },
    {
      "cell_type": "code",
      "source": [
        "base_risco_credito"
      ],
      "metadata": {
        "colab": {
          "base_uri": "https://localhost:8080/"
        },
        "id": "KFAyZeraolrg",
        "outputId": "7f0e090b-cfa7-483a-824b-a4ee1a2dc0ea"
      },
      "execution_count": 7,
      "outputs": [
        {
          "output_type": "execute_result",
          "data": {
            "text/plain": [
              "[[ruim, alta, nenhuma, 0_15 | alto],\n",
              " [desconhecida, alta, nenhuma, 15_35 | alto],\n",
              " [desconhecida, baixa, nenhuma, 15_35 | moderado],\n",
              " [desconhecida, baixa, nenhuma, acima_35 | alto],\n",
              " [desconhecida, baixa, nenhuma, acima_35 | baixo],\n",
              " ...\n",
              "]"
            ]
          },
          "metadata": {},
          "execution_count": 7
        }
      ]
    },
    {
      "cell_type": "code",
      "source": [
        "base_risco_credito.domain"
      ],
      "metadata": {
        "colab": {
          "base_uri": "https://localhost:8080/"
        },
        "id": "osIxQf-2qCBn",
        "outputId": "f4709b18-962b-432b-8cba-bcce731d32af"
      },
      "execution_count": 18,
      "outputs": [
        {
          "output_type": "execute_result",
          "data": {
            "text/plain": [
              "[historia, divida, garantias, renda | risco]"
            ]
          },
          "metadata": {},
          "execution_count": 18
        }
      ]
    },
    {
      "cell_type": "code",
      "source": [
        "cn2 = Orange.classification.rules.CN2Learner()\n",
        "regras_risco_credito = cn2(base_risco_credito)\n"
      ],
      "metadata": {
        "id": "1BtW67OEqByp"
      },
      "execution_count": 19,
      "outputs": []
    },
    {
      "cell_type": "code",
      "source": [
        "base_risco_credito.domain"
      ],
      "metadata": {
        "colab": {
          "base_uri": "https://localhost:8080/"
        },
        "outputId": "f9b7e9d1-f43d-4a6d-bbe9-cf208ef955f6",
        "id": "giDTE0Zvsxcb"
      },
      "execution_count": 20,
      "outputs": [
        {
          "output_type": "execute_result",
          "data": {
            "text/plain": [
              "[historia, divida, garantias, renda | risco]"
            ]
          },
          "metadata": {},
          "execution_count": 20
        }
      ]
    },
    {
      "cell_type": "code",
      "source": [
        "for regras in regras_risco_credito.rule_list:\n",
        "  print(regras)"
      ],
      "metadata": {
        "colab": {
          "base_uri": "https://localhost:8080/"
        },
        "id": "vgm4wO1ZqWG3",
        "outputId": "12beb472-1e2d-4123-9a81-c7d3497d8e50"
      },
      "execution_count": 11,
      "outputs": [
        {
          "output_type": "stream",
          "name": "stdout",
          "text": [
            "IF renda==0_15 THEN risco=alto \n",
            "IF historia==boa AND divida!=alta THEN risco=baixo \n",
            "IF historia==boa AND garantias!=nenhuma THEN risco=baixo \n",
            "IF historia==boa AND renda!=15_35 THEN risco=baixo \n",
            "IF historia==boa THEN risco=moderado \n",
            "IF divida==alta THEN risco=alto \n",
            "IF historia!=desconhecida THEN risco=moderado \n",
            "IF garantias==adequada THEN risco=baixo \n",
            "IF renda==15_35 THEN risco=moderado \n",
            "IF historia==desconhecida THEN risco=alto \n",
            "IF TRUE THEN risco=alto \n"
          ]
        }
      ]
    },
    {
      "cell_type": "code",
      "source": [
        "previsoes = regras_risco_credito([['boa','alta','nenhuma','acima_35'],['ruim','alta','adequada','0_15']])\n",
        "previsoes"
      ],
      "metadata": {
        "colab": {
          "base_uri": "https://localhost:8080/"
        },
        "id": "5yFhLC3sq0yc",
        "outputId": "16b6aa65-b402-47a4-92ca-87e1861a2bfc"
      },
      "execution_count": 13,
      "outputs": [
        {
          "output_type": "execute_result",
          "data": {
            "text/plain": [
              "array([1, 0])"
            ]
          },
          "metadata": {},
          "execution_count": 13
        }
      ]
    },
    {
      "cell_type": "code",
      "source": [
        "base_risco_credito.domain.class_var.values"
      ],
      "metadata": {
        "colab": {
          "base_uri": "https://localhost:8080/"
        },
        "id": "Grz8471arvnK",
        "outputId": "53ce508a-14f1-4e12-c9c8-fa201ed2ce83"
      },
      "execution_count": 16,
      "outputs": [
        {
          "output_type": "execute_result",
          "data": {
            "text/plain": [
              "('alto', 'baixo', 'moderado')"
            ]
          },
          "metadata": {},
          "execution_count": 16
        }
      ]
    },
    {
      "cell_type": "code",
      "source": [
        "for i in previsoes:\n",
        "  print(base_risco_credito.domain.class_var.values[i])"
      ],
      "metadata": {
        "colab": {
          "base_uri": "https://localhost:8080/"
        },
        "id": "5_alDT0YsBgQ",
        "outputId": "4baf68d6-0ae3-4cc4-f1c9-5e236d07d6e5"
      },
      "execution_count": 17,
      "outputs": [
        {
          "output_type": "stream",
          "name": "stdout",
          "text": [
            "baixo\n",
            "alto\n"
          ]
        }
      ]
    },
    {
      "cell_type": "markdown",
      "source": [
        "## Base de Crédito"
      ],
      "metadata": {
        "id": "yqaP0HWrzPmp"
      }
    },
    {
      "cell_type": "code",
      "source": [
        "base_credit = Orange.data.Table('credit_data_regras.csv')"
      ],
      "metadata": {
        "id": "M0im3qAwzXz3"
      },
      "execution_count": 21,
      "outputs": []
    },
    {
      "cell_type": "code",
      "source": [
        "base_credit.domain"
      ],
      "metadata": {
        "colab": {
          "base_uri": "https://localhost:8080/"
        },
        "id": "_EIILMtFz8l6",
        "outputId": "1f318b98-2468-4c24-a502-1e586fa67864"
      },
      "execution_count": 22,
      "outputs": [
        {
          "output_type": "execute_result",
          "data": {
            "text/plain": [
              "[income, age, loan | default]"
            ]
          },
          "metadata": {},
          "execution_count": 22
        }
      ]
    },
    {
      "cell_type": "code",
      "source": [
        "base_dividida = Orange.evaluation.testing.sample(base_credit, n = 0.25)"
      ],
      "metadata": {
        "id": "D4NkWMvnz8cR"
      },
      "execution_count": 24,
      "outputs": []
    },
    {
      "cell_type": "code",
      "source": [
        "base_dividida"
      ],
      "metadata": {
        "colab": {
          "base_uri": "https://localhost:8080/"
        },
        "id": "V5uGXOCX0zIN",
        "outputId": "fb88576f-4ce2-42b8-8c0c-e6affecdf47d"
      },
      "execution_count": 26,
      "outputs": [
        {
          "output_type": "execute_result",
          "data": {
            "text/plain": [
              "([[34667, 18.8532, 2827.29 | 0],\n",
              "  [66155.9, 59.017, 8106.53 | 0],\n",
              "  [66274.2, 36.3746, 10257.9 | 0],\n",
              "  [36024.9, 51.8069, 4155.45 | 0],\n",
              "  [35916.7, 53.5404, 6401.19 | 0],\n",
              "  ...\n",
              " ],\n",
              " [[58023.7, 42.7518, 2785.78 | 0],\n",
              "  [47398.3, 50.1734, 9041.88 | 0],\n",
              "  [26242.6, 32.5968, 1801.23 | 0],\n",
              "  [45576.8, 38.671, 4952.65 | 0],\n",
              "  [51144.2, 37.838, 3411.66 | 0],\n",
              "  ...\n",
              " ])"
            ]
          },
          "metadata": {},
          "execution_count": 26
        }
      ]
    },
    {
      "cell_type": "code",
      "source": [
        "base_dividida[0]"
      ],
      "metadata": {
        "colab": {
          "base_uri": "https://localhost:8080/"
        },
        "id": "BZTxTTKA06yk",
        "outputId": "8c2c0f8e-19b5-44a6-f596-c3998400a131"
      },
      "execution_count": 27,
      "outputs": [
        {
          "output_type": "execute_result",
          "data": {
            "text/plain": [
              "[[34667, 18.8532, 2827.29 | 0],\n",
              " [66155.9, 59.017, 8106.53 | 0],\n",
              " [66274.2, 36.3746, 10257.9 | 0],\n",
              " [36024.9, 51.8069, 4155.45 | 0],\n",
              " [35916.7, 53.5404, 6401.19 | 0],\n",
              " ...\n",
              "]"
            ]
          },
          "metadata": {},
          "execution_count": 27
        }
      ]
    },
    {
      "cell_type": "code",
      "source": [
        "base_treinamento = base_dividida[1]\n",
        "base_teste = base_dividida[0]"
      ],
      "metadata": {
        "id": "_fHTbP2h1CNq"
      },
      "execution_count": 30,
      "outputs": []
    },
    {
      "cell_type": "code",
      "source": [
        "len(base_treinamento), len(base_teste)"
      ],
      "metadata": {
        "colab": {
          "base_uri": "https://localhost:8080/"
        },
        "id": "MfvgzvSz1iGu",
        "outputId": "1e02f02a-4f21-48b5-ed73-cfbb61b3a73c"
      },
      "execution_count": 31,
      "outputs": [
        {
          "output_type": "execute_result",
          "data": {
            "text/plain": [
              "(1500, 500)"
            ]
          },
          "metadata": {},
          "execution_count": 31
        }
      ]
    },
    {
      "cell_type": "code",
      "source": [
        "cn2 = Orange.classification.rules.CN2Learner()\n",
        "regras_credit = cn2(base_treinamento)"
      ],
      "metadata": {
        "id": "FKyUo29N15b7"
      },
      "execution_count": 32,
      "outputs": []
    },
    {
      "cell_type": "code",
      "source": [
        "for regras in regras_credit.rule_list:\n",
        "  print(regras)"
      ],
      "metadata": {
        "colab": {
          "base_uri": "https://localhost:8080/"
        },
        "id": "86lmYzoA2ViG",
        "outputId": "abf1c453-c9d4-4709-9d7d-ce689ce07e84"
      },
      "execution_count": 34,
      "outputs": [
        {
          "output_type": "stream",
          "name": "stdout",
          "text": [
            "IF age>=34.9257164876908 THEN default=0 \n",
            "IF loan<=2495.13299137587 AND income>=20145.9885970689 THEN default=0 \n",
            "IF loan>=7708.31562497011 AND age>=18.1760434475727 THEN default=1 \n",
            "IF income>=58147.7998569608 THEN default=0 \n",
            "IF loan>=5862.83302915672 AND age>=26.854012909811 THEN default=1 \n",
            "IF loan>=6289.25607587104 THEN default=1 \n",
            "IF income>=37277.1230572835 AND income>=50360.6787929311 THEN default=0 \n",
            "IF income<=31702.3342987522 AND loan>=3665.88089899456 THEN default=1 \n",
            "IF age>=33.9493660898879 THEN default=0 \n",
            "IF age>=33.6895613595843 THEN default=1 \n",
            "IF income<=22089.8374845274 AND age>=21.3656869572587 THEN default=1 \n",
            "IF loan<=4849.33378471958 AND income>=38042.0841556042 THEN default=0 \n",
            "IF loan<=4285.38691174949 AND income>=33489.0398592688 THEN default=0 \n",
            "IF loan>=5883.660557890999 THEN default=1 \n",
            "IF income>=48192.185610532804 THEN default=0 \n",
            "IF loan>=4625.19337762744 AND loan>=5233.66322803221 THEN default=1 \n",
            "IF loan<=3293.25087871026 AND loan>=3293.25087871026 THEN default=1 \n",
            "IF loan<=3343.81635769923 AND age>=21.0349717177451 THEN default=0 \n",
            "IF income>=42522.5757574663 THEN default=0 \n",
            "IF loan>=4625.19337762744 THEN default=1 \n",
            "IF income<=31702.3342987522 AND age>=28.4226720966399 THEN default=0 \n",
            "IF income<=32197.6207010448 AND age>=18.4162362311035 THEN default=1 \n",
            "IF income<=33198.1282844208 AND loan>=4285.38691174949 THEN default=1 \n",
            "IF income<=32306.8084008992 THEN default=0 \n",
            "IF income<=37432.680958882 THEN default=0 \n",
            "IF TRUE THEN default=0 \n"
          ]
        }
      ]
    },
    {
      "cell_type": "code",
      "source": [
        "previsoes = Orange.evaluation.testing.TestOnTestData(base_treinamento, base_teste, [lambda testdata: regras_credit ])"
      ],
      "metadata": {
        "id": "haqUGYY35sR4"
      },
      "execution_count": 36,
      "outputs": []
    },
    {
      "cell_type": "code",
      "source": [
        "previsoes"
      ],
      "metadata": {
        "colab": {
          "base_uri": "https://localhost:8080/"
        },
        "id": "KCoblwmoUoCJ",
        "outputId": "640f51e5-62e3-45c9-9072-be61dfe55dcb"
      },
      "execution_count": 37,
      "outputs": [
        {
          "output_type": "execute_result",
          "data": {
            "text/plain": [
              "<Orange.evaluation.testing.Results at 0x79716084ace0>"
            ]
          },
          "metadata": {},
          "execution_count": 37
        }
      ]
    },
    {
      "cell_type": "code",
      "source": [
        "Orange.evaluation.CA(previsoes)"
      ],
      "metadata": {
        "colab": {
          "base_uri": "https://localhost:8080/"
        },
        "id": "fJDnqpyUU6RB",
        "outputId": "56dad2fa-54ef-4d82-e6eb-cedfa66f1223"
      },
      "execution_count": 38,
      "outputs": [
        {
          "output_type": "execute_result",
          "data": {
            "text/plain": [
              "array([0.98])"
            ]
          },
          "metadata": {},
          "execution_count": 38
        }
      ]
    }
  ]
}